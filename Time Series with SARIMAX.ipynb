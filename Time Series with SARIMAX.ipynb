{
 "cells": [
  {
   "cell_type": "markdown",
   "metadata": {},
   "source": [
    "# Data Exploration"
   ]
  },
  {
   "cell_type": "code",
   "execution_count": 1,
   "metadata": {},
   "outputs": [],
   "source": [
    "import pandas as pd\n",
    "import numpy as np\n",
    "import matplotlib.pyplot as plt\n",
    "%matplotlib inline\n",
    "import statsmodels.api as sm"
   ]
  },
  {
   "cell_type": "code",
   "execution_count": 2,
   "metadata": {},
   "outputs": [],
   "source": [
    "df = pd.read_csv(r'C:\\Users\\Teng Li Yuan\\Desktop\\Leeds 2007-2014.csv')"
   ]
  },
  {
   "cell_type": "code",
   "execution_count": 3,
   "metadata": {
    "scrolled": true
   },
   "outputs": [
    {
     "data": {
      "text/html": [
       "<div>\n",
       "<style scoped>\n",
       "    .dataframe tbody tr th:only-of-type {\n",
       "        vertical-align: middle;\n",
       "    }\n",
       "\n",
       "    .dataframe tbody tr th {\n",
       "        vertical-align: top;\n",
       "    }\n",
       "\n",
       "    .dataframe thead th {\n",
       "        text-align: right;\n",
       "    }\n",
       "</style>\n",
       "<table border=\"1\" class=\"dataframe\">\n",
       "  <thead>\n",
       "    <tr style=\"text-align: right;\">\n",
       "      <th></th>\n",
       "      <th>Date</th>\n",
       "      <th>Hour</th>\n",
       "      <th>LocationName</th>\n",
       "      <th>Count</th>\n",
       "      <th>WeekDay</th>\n",
       "      <th>WeekNum</th>\n",
       "      <th>Month</th>\n",
       "      <th>Year</th>\n",
       "    </tr>\n",
       "  </thead>\n",
       "  <tbody>\n",
       "    <tr>\n",
       "      <th>0</th>\n",
       "      <td>1/8/2007</td>\n",
       "      <td>0:00</td>\n",
       "      <td>Briggate</td>\n",
       "      <td>127</td>\n",
       "      <td>Wednesday</td>\n",
       "      <td>31</td>\n",
       "      <td>August</td>\n",
       "      <td>2007</td>\n",
       "    </tr>\n",
       "    <tr>\n",
       "      <th>1</th>\n",
       "      <td>1/8/2007</td>\n",
       "      <td>1:00</td>\n",
       "      <td>Briggate</td>\n",
       "      <td>52</td>\n",
       "      <td>Wednesday</td>\n",
       "      <td>31</td>\n",
       "      <td>August</td>\n",
       "      <td>2007</td>\n",
       "    </tr>\n",
       "    <tr>\n",
       "      <th>2</th>\n",
       "      <td>1/8/2007</td>\n",
       "      <td>2:00</td>\n",
       "      <td>Briggate</td>\n",
       "      <td>56</td>\n",
       "      <td>Wednesday</td>\n",
       "      <td>31</td>\n",
       "      <td>August</td>\n",
       "      <td>2007</td>\n",
       "    </tr>\n",
       "    <tr>\n",
       "      <th>3</th>\n",
       "      <td>1/8/2007</td>\n",
       "      <td>3:00</td>\n",
       "      <td>Briggate</td>\n",
       "      <td>56</td>\n",
       "      <td>Wednesday</td>\n",
       "      <td>31</td>\n",
       "      <td>August</td>\n",
       "      <td>2007</td>\n",
       "    </tr>\n",
       "    <tr>\n",
       "      <th>4</th>\n",
       "      <td>1/8/2007</td>\n",
       "      <td>4:00</td>\n",
       "      <td>Briggate</td>\n",
       "      <td>21</td>\n",
       "      <td>Wednesday</td>\n",
       "      <td>31</td>\n",
       "      <td>August</td>\n",
       "      <td>2007</td>\n",
       "    </tr>\n",
       "  </tbody>\n",
       "</table>\n",
       "</div>"
      ],
      "text/plain": [
       "       Date  Hour LocationName  Count    WeekDay  WeekNum   Month  Year\n",
       "0  1/8/2007  0:00     Briggate    127  Wednesday       31  August  2007\n",
       "1  1/8/2007  1:00     Briggate     52  Wednesday       31  August  2007\n",
       "2  1/8/2007  2:00     Briggate     56  Wednesday       31  August  2007\n",
       "3  1/8/2007  3:00     Briggate     56  Wednesday       31  August  2007\n",
       "4  1/8/2007  4:00     Briggate     21  Wednesday       31  August  2007"
      ]
     },
     "execution_count": 3,
     "metadata": {},
     "output_type": "execute_result"
    }
   ],
   "source": [
    "df.head()"
   ]
  },
  {
   "cell_type": "code",
   "execution_count": 4,
   "metadata": {},
   "outputs": [
    {
     "data": {
      "text/plain": [
       "Date            object\n",
       "Hour            object\n",
       "LocationName    object\n",
       "Count            int64\n",
       "WeekDay         object\n",
       "WeekNum          int64\n",
       "Month           object\n",
       "Year             int64\n",
       "dtype: object"
      ]
     },
     "execution_count": 4,
     "metadata": {},
     "output_type": "execute_result"
    }
   ],
   "source": [
    "df.dtypes"
   ]
  },
  {
   "cell_type": "code",
   "execution_count": 5,
   "metadata": {
    "scrolled": true
   },
   "outputs": [
    {
     "name": "stdout",
     "output_type": "stream",
     "text": [
      "8\n"
     ]
    },
    {
     "data": {
      "text/plain": [
       "array(['Briggate', 'Briggate at McDonalds\\t', 'Commercial Street at Lush',\n",
       "       'Albion Street North', 'Albion Street South', 'Dortmund Square\\t',\n",
       "       'Headrow', 'Commercial Street at Barratts'], dtype=object)"
      ]
     },
     "execution_count": 5,
     "metadata": {},
     "output_type": "execute_result"
    }
   ],
   "source": [
    "print(len(df['LocationName'].unique()))\n",
    "df['LocationName'].unique()"
   ]
  },
  {
   "cell_type": "code",
   "execution_count": 6,
   "metadata": {
    "scrolled": false
   },
   "outputs": [
    {
     "name": "stdout",
     "output_type": "stream",
     "text": [
      "Year\n",
      "2007     3936\n",
      "2008    31224\n",
      "2009    65256\n",
      "2010    69888\n",
      "2011    69888\n",
      "2012    69888\n",
      "2013    69888\n",
      "2014     6144\n",
      "dtype: int64\n"
     ]
    },
    {
     "data": {
      "text/plain": [
       "<AxesSubplot:xlabel='Year'>"
      ]
     },
     "execution_count": 6,
     "metadata": {},
     "output_type": "execute_result"
    },
    {
     "data": {
      "image/png": "[encoded data removed]",
      "text/plain": [
       "<Figure size 432x288 with 1 Axes>"
      ]
     },
     "metadata": {
      "needs_background": "light"
     },
     "output_type": "display_data"
    }
   ],
   "source": [
    "print(df.groupby('Year').size())\n",
    "df.groupby('Year').size().plot.bar()"
   ]
  },
  {
   "cell_type": "code",
   "execution_count": 7,
   "metadata": {},
   "outputs": [
    {
     "data": {
      "text/plain": [
       "Date            0\n",
       "Hour            0\n",
       "LocationName    0\n",
       "Count           0\n",
       "WeekDay         0\n",
       "WeekNum         0\n",
       "Month           0\n",
       "Year            0\n",
       "dtype: int64"
      ]
     },
     "execution_count": 7,
     "metadata": {},
     "output_type": "execute_result"
    }
   ],
   "source": [
    "df.isnull().sum()\n",
    "\n",
    "# No null value... That's great..!"
   ]
  },
  {
   "cell_type": "markdown",
   "metadata": {},
   "source": [
    "There are 8 columns, which is:\n",
    "\n",
    "__Date,\tHour,\tLocationName,\tCount,\tWeekDay,\tWeekNum,\tMonth,\tYear__\n",
    "\n",
    "There are some missing records on before 2010 and after 2014.\n",
    "This is due to some cameras were not operate for a whole year before 2010.\n",
    "\n",
    "Therefore, only footfall data of 5 years timeframe  from 2010-2014 will be selected."
   ]
  },
  {
   "cell_type": "markdown",
   "metadata": {},
   "source": [
    "# Visualisation"
   ]
  },
  {
   "cell_type": "code",
   "execution_count": 8,
   "metadata": {},
   "outputs": [],
   "source": [
    "df['Date'] = pd.to_datetime(df['Date'] + ' '+df['Hour'])"
   ]
  },
  {
   "cell_type": "code",
   "execution_count": 9,
   "metadata": {
    "scrolled": true
   },
   "outputs": [],
   "source": [
    "df = df.set_index('Date')"
   ]
  },
  {
   "cell_type": "code",
   "execution_count": 10,
   "metadata": {},
   "outputs": [],
   "source": [
    "df_ASN = df[df['LocationName']=='Albion Street North']"
   ]
  },
  {
   "cell_type": "code",
   "execution_count": 11,
   "metadata": {
    "scrolled": true
   },
   "outputs": [],
   "source": [
    "df_ASN_1013 = df_ASN['2010':'2013']"
   ]
  },
  {
   "cell_type": "code",
   "execution_count": 12,
   "metadata": {},
   "outputs": [
    {
     "data": {
      "text/html": [
       "<div>\n",
       "<style scoped>\n",
       "    .dataframe tbody tr th:only-of-type {\n",
       "        vertical-align: middle;\n",
       "    }\n",
       "\n",
       "    .dataframe tbody tr th {\n",
       "        vertical-align: top;\n",
       "    }\n",
       "\n",
       "    .dataframe thead th {\n",
       "        text-align: right;\n",
       "    }\n",
       "</style>\n",
       "<table border=\"1\" class=\"dataframe\">\n",
       "  <thead>\n",
       "    <tr style=\"text-align: right;\">\n",
       "      <th></th>\n",
       "      <th>Hour</th>\n",
       "      <th>LocationName</th>\n",
       "      <th>Count</th>\n",
       "      <th>WeekDay</th>\n",
       "      <th>WeekNum</th>\n",
       "      <th>Month</th>\n",
       "      <th>Year</th>\n",
       "    </tr>\n",
       "    <tr>\n",
       "      <th>Date</th>\n",
       "      <th></th>\n",
       "      <th></th>\n",
       "      <th></th>\n",
       "      <th></th>\n",
       "      <th></th>\n",
       "      <th></th>\n",
       "      <th></th>\n",
       "    </tr>\n",
       "  </thead>\n",
       "  <tbody>\n",
       "    <tr>\n",
       "      <th>2010-01-01 00:00:00</th>\n",
       "      <td>0:00</td>\n",
       "      <td>Albion Street North</td>\n",
       "      <td>5</td>\n",
       "      <td>Friday</td>\n",
       "      <td>53</td>\n",
       "      <td>December</td>\n",
       "      <td>2009</td>\n",
       "    </tr>\n",
       "    <tr>\n",
       "      <th>2010-01-01 01:00:00</th>\n",
       "      <td>1:00</td>\n",
       "      <td>Albion Street North</td>\n",
       "      <td>27</td>\n",
       "      <td>Friday</td>\n",
       "      <td>53</td>\n",
       "      <td>December</td>\n",
       "      <td>2009</td>\n",
       "    </tr>\n",
       "    <tr>\n",
       "      <th>2010-01-01 02:00:00</th>\n",
       "      <td>2:00</td>\n",
       "      <td>Albion Street North</td>\n",
       "      <td>8</td>\n",
       "      <td>Friday</td>\n",
       "      <td>53</td>\n",
       "      <td>December</td>\n",
       "      <td>2009</td>\n",
       "    </tr>\n",
       "    <tr>\n",
       "      <th>2010-01-01 03:00:00</th>\n",
       "      <td>3:00</td>\n",
       "      <td>Albion Street North</td>\n",
       "      <td>15</td>\n",
       "      <td>Friday</td>\n",
       "      <td>53</td>\n",
       "      <td>December</td>\n",
       "      <td>2009</td>\n",
       "    </tr>\n",
       "    <tr>\n",
       "      <th>2010-01-01 04:00:00</th>\n",
       "      <td>4:00</td>\n",
       "      <td>Albion Street North</td>\n",
       "      <td>6</td>\n",
       "      <td>Friday</td>\n",
       "      <td>53</td>\n",
       "      <td>December</td>\n",
       "      <td>2009</td>\n",
       "    </tr>\n",
       "  </tbody>\n",
       "</table>\n",
       "</div>"
      ],
      "text/plain": [
       "                     Hour         LocationName  Count WeekDay  WeekNum  \\\n",
       "Date                                                                     \n",
       "2010-01-01 00:00:00  0:00  Albion Street North      5  Friday       53   \n",
       "2010-01-01 01:00:00  1:00  Albion Street North     27  Friday       53   \n",
       "2010-01-01 02:00:00  2:00  Albion Street North      8  Friday       53   \n",
       "2010-01-01 03:00:00  3:00  Albion Street North     15  Friday       53   \n",
       "2010-01-01 04:00:00  4:00  Albion Street North      6  Friday       53   \n",
       "\n",
       "                        Month  Year  \n",
       "Date                                 \n",
       "2010-01-01 00:00:00  December  2009  \n",
       "2010-01-01 01:00:00  December  2009  \n",
       "2010-01-01 02:00:00  December  2009  \n",
       "2010-01-01 03:00:00  December  2009  \n",
       "2010-01-01 04:00:00  December  2009  "
      ]
     },
     "execution_count": 12,
     "metadata": {},
     "output_type": "execute_result"
    }
   ],
   "source": [
    "df_ASN_1013.head()"
   ]
  },
  {
   "cell_type": "code",
   "execution_count": 13,
   "metadata": {},
   "outputs": [
    {
     "name": "stderr",
     "output_type": "stream",
     "text": [
      "C:\\ProgramData\\Anaconda3\\lib\\site-packages\\pandas\\core\\frame.py:3940: SettingWithCopyWarning: \n",
      "A value is trying to be set on a copy of a slice from a DataFrame\n",
      "\n",
      "See the caveats in the documentation: http://pandas.pydata.org/pandas-docs/stable/indexing.html#indexing-view-versus-copy\n",
      "  errors=errors)\n"
     ]
    }
   ],
   "source": [
    "df_ASN_1013.drop(['Hour','LocationName','WeekDay','WeekNum','Month','Year'], axis=1, inplace=True)"
   ]
  },
  {
   "cell_type": "code",
   "execution_count": 14,
   "metadata": {
    "scrolled": false
   },
   "outputs": [
    {
     "data": {
      "text/plain": [
       "<AxesSubplot:xlabel='Date'>"
      ]
     },
     "execution_count": 14,
     "metadata": {},
     "output_type": "execute_result"
    },
    {
     "data": {
      "image/png": "[encoded data removed]",
      "text/plain": [
       "<Figure size 432x288 with 1 Axes>"
      ]
     },
     "metadata": {
      "needs_background": "light"
     },
     "output_type": "display_data"
    }
   ],
   "source": [
    "df_ASN_1013.resample('M').mean().plot()"
   ]
  },
  {
   "cell_type": "code",
   "execution_count": 15,
   "metadata": {},
   "outputs": [
    {
     "name": "stderr",
     "output_type": "stream",
     "text": [
      "C:\\ProgramData\\Anaconda3\\lib\\site-packages\\ipykernel_launcher.py:1: FutureWarning: the 'freq' keyword is deprecated, use 'period' instead\n",
      "  \"\"\"Entry point for launching an IPython kernel.\n"
     ]
    },
    {
     "data": {
      "image/png": "[encoded data removed]",
      "text/plain": [
       "<Figure size 576x288 with 4 Axes>"
      ]
     },
     "metadata": {
      "needs_background": "light"
     },
     "output_type": "display_data"
    }
   ],
   "source": [
    "res = sm.tsa.seasonal_decompose(df_ASN_1013,freq=12)\n",
    "fig = res.plot()\n",
    "fig.set_figheight(4)\n",
    "fig.set_figwidth(8)\n",
    "plt.show()"
   ]
  },
  {
   "cell_type": "code",
   "execution_count": 16,
   "metadata": {},
   "outputs": [
    {
     "data": {
      "text/plain": [
       "<AxesSubplot:>"
      ]
     },
     "execution_count": 16,
     "metadata": {},
     "output_type": "execute_result"
    },
    {
     "data": {
      "image/png": "[encoded data removed]",
      "text/plain": [
       "<Figure size 432x288 with 1 Axes>"
      ]
     },
     "metadata": {
      "needs_background": "light"
     },
     "output_type": "display_data"
    }
   ],
   "source": [
    "df1 = pd.DataFrame()\n",
    "\n",
    "df1['asn10'] = df_ASN_1013['2010'].resample('M').mean().reset_index()['Count']\n",
    "df1['asn11'] = df_ASN_1013['2011'].resample('M').mean().reset_index()['Count']\n",
    "df1['asn12'] = df_ASN_1013['2012'].resample('M').mean().reset_index()['Count']\n",
    "df1['asn13'] = df_ASN_1013['2013'].resample('M').mean().reset_index()['Count']\n",
    "\n",
    "df1.plot()"
   ]
  },
  {
   "cell_type": "markdown",
   "metadata": {},
   "source": [
    "From the plot above, we observed the time-series data has a __down-trend seasonal pattern__.\n",
    "\n",
    "The footfall count were low around May and peak at year-end.\n",
    "This is possibily related to the two major holidays in UK: __Easter__ (Early April) and __Christmas__(Dec)\n",
    "\n",
    "The pattern and some possible reasons are:\n",
    "1. Christmas:\n",
    "    The footfall count increased from July - December and subsequently drop drastically in Jan.\n",
    "    After Christmas carnival, there are less visitors attracted to the street. Possibly there are less sales and promotion in the shops, or people's desire to shop has reduced.\n",
    "    \n",
    "2. Easter:\n",
    "    Despite the low at post-Christmas month, there is a increase of visitors to these street in March to prepare for Easter celebration"
   ]
  },
  {
   "cell_type": "markdown",
   "metadata": {},
   "source": [
    "# Arima and Seasonal ARIMA\n",
    "\n",
    "The general process of ARIMA model is\n",
    "1. Time series stationary\n",
    "2. Plot the correlation and autocorrelation charts\n",
    "3. Construnct ARIMA or Seasonal Arima\n",
    "4. Prediciton"
   ]
  },
  {
   "cell_type": "markdown",
   "metadata": {},
   "source": [
    "Link: https://www.youtube.com/watch?v=Aw77aMLj9uM&ab_channel=AnalyticsUniversity\n",
    "Link: https://otexts.com/fpp2/tspatterns.html\n",
    "\n",
    "Before we get started with the stationarity of the time-series data, let's get started with the time series pattern:\n",
    "1. Trend - A long term relatively smooth pattern that usually persist for more than a year. Long tern increase or decrease\n",
    "2. Seasonal - Pattern occur in regular interval within a year or even shorter, or day of a week.\n",
    "3. Cyclical - Pattern beyond a freq of one year (or fluctuation of non-fixed interval)\n",
    "4. Random - None of above\n",
    "\n",
    "\n",
    "Link: https://machinelearningmastery.com/time-series-data-stationary-python/\n",
    "Stationary time series are not dependent on time, i.e. there are no trend or seasonal effect."
   ]
  },
  {
   "cell_type": "markdown",
   "metadata": {},
   "source": [
    "## Time Series Stationary"
   ]
  },
  {
   "cell_type": "code",
   "execution_count": 17,
   "metadata": {},
   "outputs": [],
   "source": [
    "### Testing For Stationarity\n",
    "## Link: https://www.statsmodels.org/dev/generated/statsmodels.tsa.stattools.adfuller.html\n",
    "## https://machinelearningmastery.com/time-series-data-stationary-python/\n",
    "\n",
    "from statsmodels.tsa.stattools import adfuller"
   ]
  },
  {
   "cell_type": "code",
   "execution_count": 18,
   "metadata": {
    "scrolled": true
   },
   "outputs": [],
   "source": [
    "df_ASN_1013 = df_ASN_1013.resample('M').mean()"
   ]
  },
  {
   "cell_type": "code",
   "execution_count": 19,
   "metadata": {},
   "outputs": [
    {
     "data": {
      "text/plain": [
       "(-1.7779777691908196,\n",
       " 0.39144862212557024,\n",
       " 1,\n",
       " 46,\n",
       " {'1%': -3.5812576580093696,\n",
       "  '5%': -2.9267849124681518,\n",
       "  '10%': -2.6015409829867675},\n",
       " 443.3217740147237)"
      ]
     },
     "execution_count": 19,
     "metadata": {},
     "output_type": "execute_result"
    }
   ],
   "source": [
    "test_result=adfuller(df_ASN_1013['Count'])\n",
    "test_result"
   ]
  },
  {
   "cell_type": "code",
   "execution_count": 20,
   "metadata": {},
   "outputs": [],
   "source": [
    "#Ho: It is non stationary\n",
    "#H1: It is stationary\n",
    "\n",
    "def adfuller_test(sales):\n",
    "    result=adfuller(sales)\n",
    "    labels = ['ADF Test Statistic','p-value','#Lags Used','Number of Observations Used']\n",
    "    for value,label in zip(result,labels):\n",
    "        print(label+' : '+str(value) )\n",
    "    if result[1] <= 0.05:\n",
    "        print(\"strong evidence against the null hypothesis(Ho), reject the null hypothesis. Data has no unit root and is stationary\")\n",
    "    else:\n",
    "        print(\"weak evidence against null hypothesis, time series has a unit root, indicating it is non-stationary \")"
   ]
  },
  {
   "cell_type": "code",
   "execution_count": 21,
   "metadata": {
    "scrolled": true
   },
   "outputs": [
    {
     "name": "stdout",
     "output_type": "stream",
     "text": [
      "ADF Test Statistic : -1.7779777691908196\n",
      "p-value : 0.39144862212557024\n",
      "#Lags Used : 1\n",
      "Number of Observations Used : 46\n",
      "weak evidence against null hypothesis, time series has a unit root, indicating it is non-stationary \n"
     ]
    }
   ],
   "source": [
    "adfuller_test(df_ASN_1013['Count'])"
   ]
  },
  {
   "cell_type": "markdown",
   "metadata": {},
   "source": [
    "### Differencing - making the series to be stationary\n",
    "We now confirm it is a non-stationary time-series because its p-value > 0.05 and failed to reject the null hypothesis."
   ]
  },
  {
   "cell_type": "code",
   "execution_count": 22,
   "metadata": {},
   "outputs": [],
   "source": [
    "df_ASN_1013['Count 12 mth diff'] = df_ASN_1013['Count']-df_ASN_1013['Count'].shift(12)"
   ]
  },
  {
   "cell_type": "code",
   "execution_count": 23,
   "metadata": {},
   "outputs": [],
   "source": [
    "#adfuller_test(df_ASN_1013.dropna()['Count 12 mth diff'])"
   ]
  },
  {
   "cell_type": "code",
   "execution_count": 24,
   "metadata": {},
   "outputs": [
    {
     "name": "stdout",
     "output_type": "stream",
     "text": [
      "ADF Test Statistic : -6.328022397404558\n",
      "p-value : 2.9532793409342778e-08\n",
      "#Lags Used : 10\n",
      "Number of Observations Used : 36\n",
      "strong evidence against the null hypothesis(Ho), reject the null hypothesis. Data has no unit root and is stationary\n"
     ]
    }
   ],
   "source": [
    "adfuller_test(df_ASN_1013['Count'].diff().dropna())"
   ]
  },
  {
   "cell_type": "markdown",
   "metadata": {},
   "source": [
    "Now it is stationary"
   ]
  },
  {
   "cell_type": "code",
   "execution_count": 25,
   "metadata": {},
   "outputs": [],
   "source": [
    "train = pd.Series(df_ASN_1013['Count'].reset_index()['Count'])"
   ]
  },
  {
   "cell_type": "code",
   "execution_count": 26,
   "metadata": {},
   "outputs": [],
   "source": [
    "from statsmodels.tsa.arima_model import ARIMA"
   ]
  },
  {
   "cell_type": "code",
   "execution_count": 28,
   "metadata": {},
   "outputs": [
    {
     "name": "stderr",
     "output_type": "stream",
     "text": [
      "C:\\Users\\Teng Li Yuan\\AppData\\Roaming\\Python\\Python37\\site-packages\\statsmodels\\tsa\\statespace\\sarimax.py:1006: UserWarning: Non-invertible starting seasonal moving average Using zeros as starting parameters.\n",
      "  warn('Non-invertible starting seasonal moving average'\n",
      "C:\\Users\\Teng Li Yuan\\AppData\\Roaming\\Python\\Python37\\site-packages\\statsmodels\\base\\model.py:568: ConvergenceWarning: Maximum Likelihood optimization failed to converge. Check mle_retvals\n",
      "  \"Check mle_retvals\", ConvergenceWarning)\n",
      "C:\\Users\\Teng Li Yuan\\AppData\\Roaming\\Python\\Python37\\site-packages\\statsmodels\\tsa\\statespace\\sarimax.py:1006: UserWarning: Non-invertible starting seasonal moving average Using zeros as starting parameters.\n",
      "  warn('Non-invertible starting seasonal moving average'\n",
      "C:\\Users\\Teng Li Yuan\\AppData\\Roaming\\Python\\Python37\\site-packages\\statsmodels\\tsa\\statespace\\sarimax.py:1006: UserWarning: Non-invertible starting seasonal moving average Using zeros as starting parameters.\n",
      "  warn('Non-invertible starting seasonal moving average'\n",
      "C:\\Users\\Teng Li Yuan\\AppData\\Roaming\\Python\\Python37\\site-packages\\statsmodels\\tsa\\statespace\\sarimax.py:1006: UserWarning: Non-invertible starting seasonal moving average Using zeros as starting parameters.\n",
      "  warn('Non-invertible starting seasonal moving average'\n",
      "C:\\Users\\Teng Li Yuan\\AppData\\Roaming\\Python\\Python37\\site-packages\\statsmodels\\tsa\\statespace\\sarimax.py:1006: UserWarning: Non-invertible starting seasonal moving average Using zeros as starting parameters.\n",
      "  warn('Non-invertible starting seasonal moving average'\n",
      "C:\\Users\\Teng Li Yuan\\AppData\\Roaming\\Python\\Python37\\site-packages\\statsmodels\\base\\model.py:568: ConvergenceWarning: Maximum Likelihood optimization failed to converge. Check mle_retvals\n",
      "  \"Check mle_retvals\", ConvergenceWarning)\n",
      "C:\\Users\\Teng Li Yuan\\AppData\\Roaming\\Python\\Python37\\site-packages\\statsmodels\\tsa\\statespace\\sarimax.py:1006: UserWarning: Non-invertible starting seasonal moving average Using zeros as starting parameters.\n",
      "  warn('Non-invertible starting seasonal moving average'\n",
      "C:\\Users\\Teng Li Yuan\\AppData\\Roaming\\Python\\Python37\\site-packages\\statsmodels\\tsa\\statespace\\sarimax.py:1006: UserWarning: Non-invertible starting seasonal moving average Using zeros as starting parameters.\n",
      "  warn('Non-invertible starting seasonal moving average'\n",
      "C:\\Users\\Teng Li Yuan\\AppData\\Roaming\\Python\\Python37\\site-packages\\statsmodels\\tsa\\statespace\\sarimax.py:1006: UserWarning: Non-invertible starting seasonal moving average Using zeros as starting parameters.\n",
      "  warn('Non-invertible starting seasonal moving average'\n",
      "C:\\Users\\Teng Li Yuan\\AppData\\Roaming\\Python\\Python37\\site-packages\\statsmodels\\base\\model.py:568: ConvergenceWarning: Maximum Likelihood optimization failed to converge. Check mle_retvals\n",
      "  \"Check mle_retvals\", ConvergenceWarning)\n",
      "C:\\Users\\Teng Li Yuan\\AppData\\Roaming\\Python\\Python37\\site-packages\\statsmodels\\tsa\\statespace\\sarimax.py:1006: UserWarning: Non-invertible starting seasonal moving average Using zeros as starting parameters.\n",
      "  warn('Non-invertible starting seasonal moving average'\n",
      "C:\\Users\\Teng Li Yuan\\AppData\\Roaming\\Python\\Python37\\site-packages\\statsmodels\\tsa\\statespace\\sarimax.py:1006: UserWarning: Non-invertible starting seasonal moving average Using zeros as starting parameters.\n",
      "  warn('Non-invertible starting seasonal moving average'\n",
      "C:\\Users\\Teng Li Yuan\\AppData\\Roaming\\Python\\Python37\\site-packages\\statsmodels\\tsa\\statespace\\sarimax.py:1006: UserWarning: Non-invertible starting seasonal moving average Using zeros as starting parameters.\n",
      "  warn('Non-invertible starting seasonal moving average'\n",
      "C:\\Users\\Teng Li Yuan\\AppData\\Roaming\\Python\\Python37\\site-packages\\statsmodels\\tsa\\statespace\\sarimax.py:1006: UserWarning: Non-invertible starting seasonal moving average Using zeros as starting parameters.\n",
      "  warn('Non-invertible starting seasonal moving average'\n",
      "C:\\Users\\Teng Li Yuan\\AppData\\Roaming\\Python\\Python37\\site-packages\\statsmodels\\tsa\\statespace\\sarimax.py:1006: UserWarning: Non-invertible starting seasonal moving average Using zeros as starting parameters.\n",
      "  warn('Non-invertible starting seasonal moving average'\n",
      "C:\\Users\\Teng Li Yuan\\AppData\\Roaming\\Python\\Python37\\site-packages\\statsmodels\\base\\model.py:568: ConvergenceWarning: Maximum Likelihood optimization failed to converge. Check mle_retvals\n",
      "  \"Check mle_retvals\", ConvergenceWarning)\n"
     ]
    }
   ],
   "source": [
    "## Checking pdq parameter \n",
    "\n",
    "from pmdarima.arima import auto_arima\n",
    "\n",
    "model_autoarima = auto_arima(train, seasonal=True,m=12)\n",
    "#m = 12 as data contains daily observations"
   ]
  },
  {
   "cell_type": "code",
   "execution_count": 29,
   "metadata": {},
   "outputs": [
    {
     "data": {
      "text/html": [
       "<table class=\"simpletable\">\n",
       "<caption>SARIMAX Results</caption>\n",
       "<tr>\n",
       "  <th>Dep. Variable:</th>                  <td>y</td>                <th>  No. Observations:  </th>    <td>48</td>   \n",
       "</tr>\n",
       "<tr>\n",
       "  <th>Model:</th>           <td>SARIMAX(0, 1, 1)x(1, 0, [], 12)</td> <th>  Log Likelihood     </th> <td>-263.647</td>\n",
       "</tr>\n",
       "<tr>\n",
       "  <th>Date:</th>                   <td>Fri, 06 Nov 2020</td>         <th>  AIC                </th>  <td>533.293</td>\n",
       "</tr>\n",
       "<tr>\n",
       "  <th>Time:</th>                       <td>16:22:13</td>             <th>  BIC                </th>  <td>538.844</td>\n",
       "</tr>\n",
       "<tr>\n",
       "  <th>Sample:</th>                         <td>0</td>                <th>  HQIC               </th>  <td>535.382</td>\n",
       "</tr>\n",
       "<tr>\n",
       "  <th></th>                              <td> - 48</td>              <th>                     </th>     <td> </td>   \n",
       "</tr>\n",
       "<tr>\n",
       "  <th>Covariance Type:</th>               <td>opg</td>               <th>                     </th>     <td> </td>   \n",
       "</tr>\n",
       "</table>\n",
       "<table class=\"simpletable\">\n",
       "<tr>\n",
       "      <td></td>        <th>coef</th>     <th>std err</th>      <th>z</th>      <th>P>|z|</th>  <th>[0.025</th>    <th>0.975]</th>  \n",
       "</tr>\n",
       "<tr>\n",
       "  <th>ma.L1</th>    <td>   -0.5006</td> <td>    0.099</td> <td>   -5.069</td> <td> 0.000</td> <td>   -0.694</td> <td>   -0.307</td>\n",
       "</tr>\n",
       "<tr>\n",
       "  <th>ar.S.L12</th> <td>    0.7626</td> <td>    0.076</td> <td>    9.996</td> <td> 0.000</td> <td>    0.613</td> <td>    0.912</td>\n",
       "</tr>\n",
       "<tr>\n",
       "  <th>sigma2</th>   <td> 3447.5859</td> <td>  858.896</td> <td>    4.014</td> <td> 0.000</td> <td> 1764.180</td> <td> 5130.992</td>\n",
       "</tr>\n",
       "</table>\n",
       "<table class=\"simpletable\">\n",
       "<tr>\n",
       "  <th>Ljung-Box (Q):</th>          <td>32.29</td> <th>  Jarque-Bera (JB):  </th> <td>0.33</td> \n",
       "</tr>\n",
       "<tr>\n",
       "  <th>Prob(Q):</th>                <td>0.80</td>  <th>  Prob(JB):          </th> <td>0.85</td> \n",
       "</tr>\n",
       "<tr>\n",
       "  <th>Heteroskedasticity (H):</th> <td>1.02</td>  <th>  Skew:              </th> <td>-0.03</td>\n",
       "</tr>\n",
       "<tr>\n",
       "  <th>Prob(H) (two-sided):</th>    <td>0.97</td>  <th>  Kurtosis:          </th> <td>2.59</td> \n",
       "</tr>\n",
       "</table><br/><br/>Warnings:<br/>[1] Covariance matrix calculated using the outer product of gradients (complex-step)."
      ],
      "text/plain": [
       "<class 'statsmodels.iolib.summary.Summary'>\n",
       "\"\"\"\n",
       "                                      SARIMAX Results                                      \n",
       "===========================================================================================\n",
       "Dep. Variable:                                   y   No. Observations:                   48\n",
       "Model:             SARIMAX(0, 1, 1)x(1, 0, [], 12)   Log Likelihood                -263.647\n",
       "Date:                             Fri, 06 Nov 2020   AIC                            533.293\n",
       "Time:                                     16:22:13   BIC                            538.844\n",
       "Sample:                                          0   HQIC                           535.382\n",
       "                                              - 48                                         \n",
       "Covariance Type:                               opg                                         \n",
       "==============================================================================\n",
       "                 coef    std err          z      P>|z|      [0.025      0.975]\n",
       "------------------------------------------------------------------------------\n",
       "ma.L1         -0.5006      0.099     -5.069      0.000      -0.694      -0.307\n",
       "ar.S.L12       0.7626      0.076      9.996      0.000       0.613       0.912\n",
       "sigma2      3447.5859    858.896      4.014      0.000    1764.180    5130.992\n",
       "===================================================================================\n",
       "Ljung-Box (Q):                       32.29   Jarque-Bera (JB):                 0.33\n",
       "Prob(Q):                              0.80   Prob(JB):                         0.85\n",
       "Heteroskedasticity (H):               1.02   Skew:                            -0.03\n",
       "Prob(H) (two-sided):                  0.97   Kurtosis:                         2.59\n",
       "===================================================================================\n",
       "\n",
       "Warnings:\n",
       "[1] Covariance matrix calculated using the outer product of gradients (complex-step).\n",
       "\"\"\""
      ]
     },
     "execution_count": 29,
     "metadata": {},
     "output_type": "execute_result"
    }
   ],
   "source": [
    "model_autoarima.summary()"
   ]
  },
  {
   "cell_type": "code",
   "execution_count": 30,
   "metadata": {},
   "outputs": [],
   "source": [
    "## https://medium.com/@shawanugya12/implementation-of-time-series-forecasting-methods-sarima-sarimax-and-prophet-ff8407b25aaa"
   ]
  },
  {
   "cell_type": "code",
   "execution_count": 31,
   "metadata": {},
   "outputs": [],
   "source": [
    "# ## Use order select to find the pqr https://www.kaggle.com/poiupoiu/how-to-use-sarimax\n",
    "df_ASN_1013.drop('Count 12 mth diff', axis = 1, inplace=True)"
   ]
  },
  {
   "cell_type": "code",
   "execution_count": 32,
   "metadata": {},
   "outputs": [
    {
     "data": {
      "text/plain": [
       "<AxesSubplot:>"
      ]
     },
     "execution_count": 32,
     "metadata": {},
     "output_type": "execute_result"
    },
    {
     "data": {
      "image/png": "[encoded data removed]",
      "text/plain": [
       "<Figure size 432x288 with 1 Axes>"
      ]
     },
     "metadata": {
      "needs_background": "light"
     },
     "output_type": "display_data"
    }
   ],
   "source": [
    "import statsmodels.api as sm\n",
    "model=sm.tsa.statespace.SARIMAX(df_ASN_1013,order=(0, 1, 1),seasonal_order=(1,0,0,12))\n",
    "results=model.fit()\n",
    "df_predict = results.predict(start='2014',end='2016',dynamic=True)\n",
    "df_predict.plot()\n",
    "\n",
    "#Model:\tSARIMAX(0, 1, 1)x(1, 0, 0, 12)\t"
   ]
  },
  {
   "cell_type": "code",
   "execution_count": 33,
   "metadata": {},
   "outputs": [],
   "source": [
    "df_predict=pd.DataFrame( {'Count' : df_predict})"
   ]
  },
  {
   "cell_type": "markdown",
   "metadata": {},
   "source": [
    "# Visualisation of the Prediction result"
   ]
  },
  {
   "cell_type": "code",
   "execution_count": 34,
   "metadata": {
    "scrolled": true
   },
   "outputs": [
    {
     "data": {
      "text/plain": [
       "<AxesSubplot:>"
      ]
     },
     "execution_count": 34,
     "metadata": {},
     "output_type": "execute_result"
    },
    {
     "data": {
      "image/png": "[encoded data removed]",
      "text/plain": [
       "<Figure size 432x288 with 1 Axes>"
      ]
     },
     "metadata": {
      "needs_background": "light"
     },
     "output_type": "display_data"
    }
   ],
   "source": [
    "pd.concat([df_ASN_1013, pd.DataFrame(df_predict)]).plot()"
   ]
  }
 ],
 "metadata": {
  "kernelspec": {
   "display_name": "Python 3",
   "language": "python",
   "name": "python3"
  },
  "language_info": {
   "codemirror_mode": {
    "name": "ipython",
    "version": 3
   },
   "file_extension": ".py",
   "mimetype": "text/x-python",
   "name": "python",
   "nbconvert_exporter": "python",
   "pygments_lexer": "ipython3",
   "version": "3.7.3"
  }
 },
 "nbformat": 4,
 "nbformat_minor": 2
}
